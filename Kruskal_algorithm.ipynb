{
  "nbformat": 4,
  "nbformat_minor": 0,
  "metadata": {
    "colab": {
      "provenance": []
    },
    "kernelspec": {
      "name": "python3",
      "display_name": "Python 3"
    },
    "language_info": {
      "name": "python"
    }
  },
  "cells": [
    {
      "cell_type": "code",
      "execution_count": 1,
      "metadata": {
        "colab": {
          "base_uri": "https://localhost:8080/"
        },
        "id": "4H7DmRkblGT4",
        "outputId": "a52e79fc-a241-4c23-f8ad-a2b656d27cc1"
      },
      "outputs": [
        {
          "output_type": "stream",
          "name": "stdout",
          "text": [
            "\n",
            "Edges of Minimum Cost Spanning Tree are\n",
            "g -> h = 1\n",
            "c -> i = 2\n",
            "f -> g = 2\n",
            "a -> b = 4\n",
            "c -> f = 4\n",
            "c -> d = 7\n",
            "a -> h = 8\n",
            "d -> e = 9\n"
          ]
        }
      ],
      "source": [
        "MAX = 30\n",
        "\n",
        "class Edge:\n",
        "    def __init__(self, u, v, w):\n",
        "        self.u = u\n",
        "        self.v = v\n",
        "        self.w = w\n",
        "\n",
        "class EdgeList:\n",
        "    def __init__(self):\n",
        "        self.data = []\n",
        "        self.n = 0\n",
        "\n",
        "G = [\n",
        "    [0, 4, 0, 0, 0, 0, 0, 8, 0],\n",
        "    [4, 0, 8, 0, 0, 0, 0, 11, 0],\n",
        "    [0, 8, 0, 7, 0, 4, 0, 0, 2],\n",
        "    [0, 0, 7, 0, 9, 14, 0, 0, 0],\n",
        "    [0, 0, 0, 9, 0, 10, 0, 0, 0],\n",
        "    [0, 0, 4, 14, 10, 0, 2, 0, 0],\n",
        "    [0, 0, 0, 0, 0, 2, 0, 1, 6],\n",
        "    [8, 0, 0, 0, 0, 0, 1, 0, 7],\n",
        "    [0, 0, 2, 0, 0, 0, 6, 7, 0]\n",
        "]\n",
        "\n",
        "n = 9\n",
        "parent = [i for i in range(MAX)]\n",
        "vertices = ['a', 'b', 'c', 'd', 'e', 'f', 'g', 'h', 'i']\n",
        "\n",
        "elist = EdgeList()\n",
        "\n",
        "def kruskal():\n",
        "    global elist\n",
        "    elist.n = 0\n",
        "\n",
        "    for i in range(n):\n",
        "        for j in range(n):\n",
        "            if G[i][j] != 0:\n",
        "                elist.data.append(Edge(i, j, G[i][j]))\n",
        "                elist.n += 1\n",
        "\n",
        "    elist.data.sort(key=lambda x: x.w)\n",
        "\n",
        "    print(\"\\nEdges of Minimum Cost Spanning Tree are\")\n",
        "    for i in range(elist.n):\n",
        "        u = find(elist.data[i].u)\n",
        "        v = find(elist.data[i].v)\n",
        "\n",
        "        if u != v:\n",
        "            union(u, v)\n",
        "            print(f\"{vertices[elist.data[i].u]} -> {vertices[elist.data[i].v]} = {elist.data[i].w}\")\n",
        "\n",
        "def find(i):\n",
        "    while parent[i] != i:\n",
        "        i = parent[i]\n",
        "    return i\n",
        "\n",
        "def union(i, j):\n",
        "    parent[i] = j\n",
        "\n",
        "if __name__ == \"__main__\":\n",
        "    kruskal()\n"
      ]
    },
    {
      "cell_type": "code",
      "source": [],
      "metadata": {
        "id": "FNtgE2vCdddL"
      },
      "execution_count": null,
      "outputs": []
    }
  ]
}