{
  "nbformat": 4,
  "nbformat_minor": 0,
  "metadata": {
    "colab": {
      "provenance": []
    },
    "kernelspec": {
      "name": "python3",
      "display_name": "Python 3"
    },
    "language_info": {
      "name": "python"
    }
  },
  "cells": [
    {
      "cell_type": "code",
      "execution_count": 1,
      "metadata": {
        "colab": {
          "base_uri": "https://localhost:8080/"
        },
        "id": "aFvRLmL-d3Cp",
        "outputId": "04cb5801-4098-49d1-85e3-e12f4c85f887"
      },
      "outputs": [
        {
          "output_type": "stream",
          "name": "stdout",
          "text": [
            "topological sort:\n",
            "socks\n",
            "undershorts\n",
            "pants\n",
            "shoes\n",
            "watch\n",
            "shirt\n",
            "belt\n",
            "tie\n",
            "jacket\n"
          ]
        }
      ],
      "source": [
        "class Element:\n",
        "    def __init__(self, name, start, finish):\n",
        "        self.name = name\n",
        "        self.start = start\n",
        "        self.finish = finish\n",
        "\n",
        "def compare(elementA, elementB):\n",
        "    return elementB.finish - elementA.finish\n",
        "\n",
        "elements = [\n",
        "    Element(\"watch\", 9, 10),\n",
        "    Element(\"shirt\", 1, 8),\n",
        "    Element(\"tie\", 2, 5),\n",
        "    Element(\"jacket\", 3, 4),\n",
        "    Element(\"belt\", 6, 7),\n",
        "    Element(\"pants\", 12, 15),\n",
        "    Element(\"undershorts\", 11, 16),\n",
        "    Element(\"socks\", 17, 18),\n",
        "    Element(\"shoes\", 13, 14)\n",
        "]\n",
        "\n",
        "elements.sort(key=lambda x: x.finish, reverse=True)\n",
        "\n",
        "print(\"topological sort:\")\n",
        "for element in elements:\n",
        "    print(element.name)\n"
      ]
    },
    {
      "cell_type": "code",
      "source": [],
      "metadata": {
        "id": "SKUJdGJZd38x"
      },
      "execution_count": null,
      "outputs": []
    }
  ]
}