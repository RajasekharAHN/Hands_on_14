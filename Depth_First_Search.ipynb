{
  "nbformat": 4,
  "nbformat_minor": 0,
  "metadata": {
    "colab": {
      "provenance": []
    },
    "kernelspec": {
      "name": "python3",
      "display_name": "Python 3"
    },
    "language_info": {
      "name": "python"
    }
  },
  "cells": [
    {
      "cell_type": "code",
      "source": [
        "def dfs(i, adj, visited, names):\n",
        "    print(names[i], end=\" \")\n",
        "    visited[i] = 1\n",
        "\n",
        "    for j in range(len(adj)):\n",
        "        if not visited[j] and adj[i][j] == 1:\n",
        "            dfs(j, adj, visited, names)\n",
        "\n",
        "def main():\n",
        "    MAX = 9\n",
        "    adj = [\n",
        "        [0, 0, 0, 0, 0, 0, 0, 0, 0],  # watch\n",
        "        [0, 0, 1, 1, 0, 0, 0, 0, 0],  # shirt\n",
        "        [0, 0, 0, 0, 0, 0, 0, 0, 1],  # tie\n",
        "        [0, 0, 0, 0, 0, 0, 0, 0, 1],  # belt\n",
        "        [0, 0, 0, 1, 0, 0, 0, 0, 0],  # pants\n",
        "        [0, 0, 0, 0, 1, 0, 0, 1, 0],  # undershorts\n",
        "        [0, 0, 0, 0, 0, 0, 0, 1, 0],  # socks\n",
        "        [0, 0, 0, 0, 0, 0, 0, 0, 0],  # shoes\n",
        "        [0, 0, 0, 0, 0, 0, 0, 0, 0]   # jacket\n",
        "    ]\n",
        "    visited = [0] * MAX\n",
        "    names = [\"watch\", \"shirt\", \"tie\", \"belt\", \"pants\", \"undershorts\", \"socks\", \"shoes\", \"jacket\"]\n",
        "\n",
        "    print(\"DFS traversal of the graph is: \", end=\"\")\n",
        "    for i in range(MAX):\n",
        "        if not visited[i]:\n",
        "            dfs(i, adj, visited, names)\n",
        "\n",
        "if __name__ == \"__main__\":\n",
        "    main()\n"
      ],
      "metadata": {
        "colab": {
          "base_uri": "https://localhost:8080/"
        },
        "id": "YxWDtsVykwQU",
        "outputId": "d75724f4-d94a-40f8-d173-d7ef3e0887a8"
      },
      "execution_count": 1,
      "outputs": [
        {
          "output_type": "stream",
          "name": "stdout",
          "text": [
            "DFS traversal of the graph is: watch shirt tie jacket belt pants undershorts shoes socks "
          ]
        }
      ]
    },
    {
      "cell_type": "code",
      "source": [],
      "metadata": {
        "id": "3BdtuSVmdHxs"
      },
      "execution_count": null,
      "outputs": []
    }
  ]
}